{
 "cells": [
  {
   "cell_type": "code",
   "execution_count": 1,
   "metadata": {
    "collapsed": true
   },
   "outputs": [],
   "source": [
    "import pandas as pd \n",
    "import numpy as np\n",
    "import cv2 \n",
    "import matplotlib.pyplot as plt\n",
    "import random\n",
    "%matplotlib inline \n",
    "from scipy.stats import bernoulli\n",
    "\n",
    "\n",
    "DIR ='data/data/'\n",
    "\n",
    "df = pd.read_csv('data/data/driving_log.csv')\n",
    "\n"
   ]
  },
  {
   "cell_type": "code",
   "execution_count": 2,
   "metadata": {
    "collapsed": true
   },
   "outputs": [],
   "source": [
    "def read_img(path):\n",
    "    \n",
    "    img = cv2.imread(path)\n",
    "    b,g,r = cv2.split(img)\n",
    "    rgb_img = cv2.merge([r,g,b])\n",
    "    return rgb_img"
   ]
  },
  {
   "cell_type": "code",
   "execution_count": 3,
   "metadata": {
    "collapsed": true
   },
   "outputs": [],
   "source": [
    "def image_flip(image,steering):\n",
    "    \n",
    "    if random.randrange(2) == 1: \n",
    "        return cv2.flip(image,1), -1 * steering\n",
    "    else: \n",
    "        return image,steering"
   ]
  },
  {
   "cell_type": "code",
   "execution_count": 4,
   "metadata": {
    "collapsed": true
   },
   "outputs": [],
   "source": [
    "def random_gamma(image):\n",
    "    \"\"\"\n",
    "    Random gamma correction is used as an alternative method changing the brightness of\n",
    "    training images.\n",
    "    http://www.pyimagesearch.com/2015/10/05/opencv-gamma-correction/\"\"\" \n",
    "    \n",
    "    \n",
    "    gamma = np.random.uniform(0.75,1.5)\n",
    "    inv_gamma = 1.0/gamma\n",
    "    table = np.array([((i /255 ** inv_gamma ) * 255 )for i in np.arange(0,256)]).astype('uint8')\n",
    "    return cv2.LUT(image,table)\n",
    "        "
   ]
  },
  {
   "cell_type": "code",
   "execution_count": 5,
   "metadata": {
    "collapsed": true
   },
   "outputs": [],
   "source": [
    "def shear(image,steering):\n",
    "    \"\"\"\n",
    "    Source: https://medium.com/@ksakmann/behavioral-cloning-make-a-car-drive-like-yourself-dc6021152713#.7k8vfppvk\n",
    "    \"\"\"\n",
    "    \n",
    "    rows, cols , channels = image.shape\n",
    "    dx = np.random.randint (-200,201)\n",
    "    random_points = [cols/2 + dx ,rows/2]\n",
    "    \n",
    "    pts1 = np.float32([[0,rows],[cols,rows],[cols/2,rows/2]])\n",
    "    pts2 = np.float32 ([[0,rows],[cols,rows],random_points])\n",
    "  \n",
    "    dsteering = dx /(rows/2 ) *360 / (2 * np.pi * 25.0) / 6.0  \n",
    "    M = cv2.getAffineTransform (pts1,pts2)\n",
    "    \n",
    "    image = cv2.warpAffine (image,M,(cols,rows),borderMode = 1 )\n",
    "    steering_angle = dsteering \n",
    "    \n",
    "    return image,steering_angle \n",
    "\n",
    "    "
   ]
  },
  {
   "cell_type": "code",
   "execution_count": 6,
   "metadata": {
    "collapsed": true
   },
   "outputs": [],
   "source": [
    "def crop(image):\n",
    "    return image[65:140, :]"
   ]
  },
  {
   "cell_type": "code",
   "execution_count": 7,
   "metadata": {
    "collapsed": true
   },
   "outputs": [],
   "source": [
    "def resize(image):\n",
    "    img = cv2.resize(image,(64,64),interpolation = cv2.INTER_AREA)\n",
    "    return img"
   ]
  },
  {
   "cell_type": "code",
   "execution_count": 8,
   "metadata": {
    "collapsed": false
   },
   "outputs": [],
   "source": [
    "def generator(data, batch_size): \n",
    "    \n",
    "    while 1:\n",
    "        \n",
    "        bat_cnt = 0 \n",
    "        X = []\n",
    "        Y = []\n",
    "        \n",
    "        for line in data.iterrows():\n",
    "            \n",
    "            rnd = np.random.randint(0, 3)\n",
    "            if rnd == 0 : \n",
    "                image = read_img(DIR + line[1].left.strip() )\n",
    "                angle = line[1].steering +  0.25 \n",
    "                \n",
    "            elif rnd == 1:\n",
    "                image = read_img(DIR + line[1].center.strip() )\n",
    "                angle = line[1].steering  \n",
    "                                \n",
    "            else:\n",
    "                image = read_img (DIR + line[1].right.strip() )\n",
    "                angle = line[1].steering   - 0.25  \n",
    "                \n",
    "              \n",
    "            \n",
    "            \n",
    "\n",
    "#             if bernoulli.rvs(0.9) == 1:\n",
    "#                     image, angle = shear(image, angle)\n",
    "            \n",
    "            image = image[65:140,:,:]\n",
    "\n",
    "            image, angle = image_flip(image, angle)\n",
    "#           image = random_gamma(image)\n",
    "            \n",
    "            image = resize(image)\n",
    "\n",
    "            X.append(image)\n",
    "            Y.append(angle)\n",
    "            \n",
    "            bat_cnt +=1\n",
    "\n",
    "            if bat_cnt == batch_size: \n",
    "                X_data = np.array(X)\n",
    "                Y_data = np.array(Y) \n",
    "                yield (X_data, Y_data)\n",
    "                bat_cnt = 0\n",
    "                X = []\n",
    "                Y = []\n",
    "                \n",
    "\n",
    "\n",
    "            "
   ]
  },
  {
   "cell_type": "code",
   "execution_count": 9,
   "metadata": {
    "collapsed": false
   },
   "outputs": [
    {
     "name": "stderr",
     "output_type": "stream",
     "text": [
      "Using TensorFlow backend.\n"
     ]
    }
   ],
   "source": [
    "from sklearn.model_selection import train_test_split\n",
    "from sklearn.metrics import mean_squared_error\n",
    "\n",
    "from keras.models import Sequential\n",
    "from keras.layers import Input, Dropout, Flatten, Convolution2D, MaxPooling2D, BatchNormalization, Dense,Lambda,Activation\n",
    "from keras.optimizers import RMSprop,Adam\n",
    "from keras.callbacks import ModelCheckpoint, Callback, EarlyStopping\n",
    "from keras import backend as K"
   ]
  },
  {
   "cell_type": "code",
   "execution_count": 10,
   "metadata": {
    "collapsed": false
   },
   "outputs": [],
   "source": [
    "\n",
    "def get_model():\n",
    "    \n",
    "    model = Sequential()\n",
    "\n",
    "    # Source:  https://images.nvidia.com/content/tegra/automotive/images/2016/solutions/pdf/end-to-end-dl-using-px.pdf\n",
    "    model = Sequential()\n",
    "\n",
    "    model.add(Lambda(lambda x: x / 127.5 - 1.0, input_shape=(64, 64, 3)))\n",
    "\n",
    "    # starts with five convolutional and maxpooling layers\n",
    "    model.add(Convolution2D(24, 5, 5, border_mode='same', subsample=(2, 2)))\n",
    "    model.add(Activation('relu'))\n",
    "    model.add(MaxPooling2D(pool_size=(2, 2), strides=(1, 1)))\n",
    "\n",
    "    model.add(Convolution2D(36, 5, 5, border_mode='same', subsample=(2, 2)))\n",
    "    model.add(Activation('relu'))\n",
    "    model.add(MaxPooling2D(pool_size=(2, 2), strides=(1, 1)))\n",
    "\n",
    "    model.add(Convolution2D(48, 5, 5, border_mode='same', subsample=(2, 2)))\n",
    "    model.add(Activation('relu'))\n",
    "    model.add(MaxPooling2D(pool_size=(2, 2), strides=(1, 1)))\n",
    "\n",
    "    model.add(Convolution2D(64, 3, 3, border_mode='same', subsample=(1, 1)))\n",
    "    model.add(Activation('relu'))\n",
    "    model.add(MaxPooling2D(pool_size=(2, 2), strides=(1, 1)))\n",
    "\n",
    "    model.add(Convolution2D(64, 3, 3, border_mode='same', subsample=(1, 1)))\n",
    "    model.add(Activation('relu'))\n",
    "    model.add(MaxPooling2D(pool_size=(2, 2), strides=(1, 1)))\n",
    "\n",
    "    model.add(Flatten())\n",
    "\n",
    "    # Next, five fully connected layers\n",
    "    model.add(Dense(1164))\n",
    "    model.add(Activation('relu'))\n",
    "\n",
    "    model.add(Dense(100))\n",
    "    model.add(Activation('relu'))\n",
    "\n",
    "    model.add(Dense(50))\n",
    "    model.add(Activation('relu'))\n",
    "\n",
    "    model.add(Dense(10))\n",
    "    model.add(Activation('relu'))\n",
    "\n",
    "    model.add(Dense(1))\n",
    "\n",
    "    # model.summary()\n",
    "\n",
    "    model.compile(optimizer=Adam(1e-4), loss=\"mse\", )\n",
    "\n",
    "    \n",
    "    return model\n",
    "\n",
    "model =  get_model()"
   ]
  },
  {
   "cell_type": "code",
   "execution_count": 11,
   "metadata": {
    "collapsed": false
   },
   "outputs": [],
   "source": [
    "df = df.iloc[np.random.permutation(len(df))]"
   ]
  },
  {
   "cell_type": "code",
   "execution_count": 12,
   "metadata": {
    "collapsed": false
   },
   "outputs": [],
   "source": [
    "X_train, X_Validation = train_test_split(df, test_size=0.20,)\n"
   ]
  },
  {
   "cell_type": "code",
   "execution_count": 13,
   "metadata": {
    "collapsed": false
   },
   "outputs": [],
   "source": [
    "early_stopping = EarlyStopping (monitor= 'val_loss',patience = 3 , verbose = 1 , mode='min')\n",
    "save_weights = ModelCheckpoint('model.h5',monitor ='val_loss',save_best_only = True)"
   ]
  },
  {
   "cell_type": "code",
   "execution_count": 14,
   "metadata": {
    "collapsed": false,
    "scrolled": true
   },
   "outputs": [
    {
     "name": "stdout",
     "output_type": "stream",
     "text": [
      "Epoch 1/30\n",
      "20096/20096 [==============================] - 207s - loss: 0.0285 - val_loss: 0.0224\n",
      "Epoch 2/30\n",
      "20096/20096 [==============================] - 225s - loss: 0.0200 - val_loss: 0.0183\n",
      "Epoch 3/30\n",
      "20096/20096 [==============================] - 266s - loss: 0.0154 - val_loss: 0.0134\n",
      "Epoch 4/30\n",
      "20096/20096 [==============================] - 262s - loss: 0.0123 - val_loss: 0.0122\n",
      "Epoch 5/30\n",
      "20096/20096 [==============================] - 252s - loss: 0.0112 - val_loss: 0.0114\n",
      "Epoch 6/30\n",
      "20096/20096 [==============================] - 250s - loss: 0.0106 - val_loss: 0.0112\n",
      "Epoch 7/30\n",
      "20096/20096 [==============================] - 291s - loss: 0.0102 - val_loss: 0.0107\n",
      "Epoch 8/30\n",
      "20096/20096 [==============================] - 343s - loss: 0.0100 - val_loss: 0.0113\n",
      "Epoch 9/30\n",
      "20096/20096 [==============================] - 294s - loss: 0.0095 - val_loss: 0.0109\n",
      "Epoch 10/30\n",
      "20096/20096 [==============================] - 250s - loss: 0.0092 - val_loss: 0.0105\n",
      "Epoch 11/30\n",
      "20096/20096 [==============================] - 246s - loss: 0.0090 - val_loss: 0.0106\n",
      "Epoch 12/30\n",
      "20096/20096 [==============================] - 254s - loss: 0.0089 - val_loss: 0.0104\n",
      "Epoch 13/30\n",
      "20096/20096 [==============================] - 357s - loss: 0.0086 - val_loss: 0.0100\n",
      "Epoch 14/30\n",
      "20096/20096 [==============================] - 354s - loss: 0.0085 - val_loss: 0.0101\n",
      "Epoch 15/30\n",
      "20096/20096 [==============================] - 290s - loss: 0.0084 - val_loss: 0.0110\n",
      "Epoch 16/30\n",
      "20096/20096 [==============================] - 285s - loss: 0.0084 - val_loss: 0.0098\n",
      "Epoch 17/30\n",
      "20096/20096 [==============================] - 340s - loss: 0.0080 - val_loss: 0.0102\n",
      "Epoch 18/30\n",
      "20096/20096 [==============================] - 406s - loss: 0.0079 - val_loss: 0.0101\n",
      "Epoch 19/30\n",
      "20096/20096 [==============================] - 388s - loss: 0.0077 - val_loss: 0.0106\n",
      "Epoch 20/30\n",
      "20096/20096 [==============================] - 398s - loss: 0.0075 - val_loss: 0.0110\n",
      "Epoch 00019: early stopping\n"
     ]
    },
    {
     "data": {
      "text/plain": [
       "<keras.callbacks.History at 0x23d309d2f28>"
      ]
     },
     "execution_count": 14,
     "metadata": {},
     "output_type": "execute_result"
    }
   ],
   "source": [
    "model.fit_generator(generator(X_train,128),\n",
    "                    samples_per_epoch = 20096, nb_epoch =30,\n",
    "                    validation_data = generator(X_Validation,64),nb_val_samples=6400,\n",
    "                    callbacks = [early_stopping,save_weights]\n",
    "                   )"
   ]
  },
  {
   "cell_type": "code",
   "execution_count": null,
   "metadata": {
    "collapsed": false
   },
   "outputs": [],
   "source": [
    "x,y = next(generator(X_train,65))"
   ]
  },
  {
   "cell_type": "code",
   "execution_count": null,
   "metadata": {
    "collapsed": false
   },
   "outputs": [],
   "source": [
    "print(x[0].shape)\n",
    "plt.imshow(x[0])"
   ]
  },
  {
   "cell_type": "code",
   "execution_count": null,
   "metadata": {
    "collapsed": false
   },
   "outputs": [],
   "source": [
    "plt.imshow(x[0])"
   ]
  },
  {
   "cell_type": "code",
   "execution_count": null,
   "metadata": {
    "collapsed": false
   },
   "outputs": [],
   "source": [
    "x.shape"
   ]
  },
  {
   "cell_type": "code",
   "execution_count": null,
   "metadata": {
    "collapsed": false
   },
   "outputs": [],
   "source": [
    "X_train.head()"
   ]
  },
  {
   "cell_type": "code",
   "execution_count": null,
   "metadata": {
    "collapsed": false
   },
   "outputs": [],
   "source": [
    "file ='IMG/center_2016_12_01_13_37_35_403.jpg'\n",
    "\n",
    "image = read_img(DIR + file )\n",
    "print (type(image))\n",
    "print ((image.shape))\n",
    "plt.imshow(image)\n"
   ]
  },
  {
   "cell_type": "code",
   "execution_count": null,
   "metadata": {
    "collapsed": false
   },
   "outputs": [],
   "source": [
    "angle = 0.0\n",
    "image, angle = shear(image, angle)\n",
    "plt.imshow(image)\n"
   ]
  },
  {
   "cell_type": "code",
   "execution_count": null,
   "metadata": {
    "collapsed": false
   },
   "outputs": [],
   "source": [
    "image = image[65:140,:,:]\n",
    "\n",
    "plt.imshow(image)"
   ]
  },
  {
   "cell_type": "code",
   "execution_count": null,
   "metadata": {
    "collapsed": false
   },
   "outputs": [],
   "source": [
    "image, angle = image_flip(image, angle)\n",
    "plt.imshow(image)\n"
   ]
  },
  {
   "cell_type": "code",
   "execution_count": null,
   "metadata": {
    "collapsed": false
   },
   "outputs": [],
   "source": [
    "image = random_gamma(image)\n",
    "plt.imshow(image)\n"
   ]
  },
  {
   "cell_type": "code",
   "execution_count": null,
   "metadata": {
    "collapsed": false
   },
   "outputs": [],
   "source": [
    "image = resize(image)\n",
    "plt.imshow(image)"
   ]
  },
  {
   "cell_type": "code",
   "execution_count": null,
   "metadata": {
    "collapsed": true
   },
   "outputs": [],
   "source": []
  }
 ],
 "metadata": {
  "anaconda-cloud": {},
  "kernelspec": {
   "display_name": "Python [default]",
   "language": "python",
   "name": "python3"
  },
  "language_info": {
   "codemirror_mode": {
    "name": "ipython",
    "version": 3
   },
   "file_extension": ".py",
   "mimetype": "text/x-python",
   "name": "python",
   "nbconvert_exporter": "python",
   "pygments_lexer": "ipython3",
   "version": "3.5.2"
  }
 },
 "nbformat": 4,
 "nbformat_minor": 1
}
